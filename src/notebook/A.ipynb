{
 "cells": [
  {
   "cell_type": "markdown",
   "id": "ba99332b-57bb-4a4e-b81c-9831604962a4",
   "metadata": {},
   "source": [
    "## Impoarting Pandas, NumPy, Matplotlib, Seaborn and Warnings Libraty"
   ]
  },
  {
   "cell_type": "markdown",
   "id": "5aeb056b-5388-4c7d-a5b9-bc0b9aa22b61",
   "metadata": {},
   "source": [
    "import numpy as np\n",
    "import pandas as pd\n",
    "import seaborn as sns\n",
    "import matplotlib.pyplot as plt\n",
    "%matplotlib inline\n",
    "import warnings\n",
    "warnings.filterwarnings('ignore')"
   ]
  },
  {
   "cell_type": "markdown",
   "id": "49cbc9cc-7246-4184-a341-72363a253d98",
   "metadata": {},
   "source": [
    "## Import the CSV Data as Pandas Data Frame"
   ]
  },
  {
   "cell_type": "code",
   "execution_count": null,
   "id": "ad0926b2-6be3-4576-bfd1-f3dade7a2c80",
   "metadata": {},
   "outputs": [
    {
     "ename": "",
     "evalue": "",
     "output_type": "error",
     "traceback": [
      "\u001b[1;31mThe kernel failed to start due to the missing module 'typing_extensions'. Consider installing this module.\n",
      "\u001b[1;31mClick <a href='https://aka.ms/kernelFailuresMissingModule'>here</a> for more info."
     ]
    }
   ],
   "source": [
    "import numpy as np\n",
    "import pandas as pd\n",
    "import seaborn as sns\n",
    "import matplotlib.pyplot as plt\n",
    "%matplotlib inline\n",
    "import warnings\n",
    "warnings.filterwarnings('ignore')"
   ]
  },
  {
   "cell_type": "code",
   "execution_count": null,
   "id": "1371bf3c-4d8f-42ac-ba2f-79c938551b81",
   "metadata": {},
   "outputs": [
    {
     "ename": "",
     "evalue": "",
     "output_type": "error",
     "traceback": [
      "\u001b[1;31mThe kernel failed to start due to the missing module 'typing_extensions'. Consider installing this module.\n",
      "\u001b[1;31mClick <a href='https://aka.ms/kernelFailuresMissingModule'>here</a> for more info."
     ]
    }
   ],
   "source": [
    "df = pd.read_csv('stud.csv.csv')"
   ]
  },
  {
   "cell_type": "code",
   "execution_count": null,
   "id": "6b9f8144-0b6d-4c68-b6d6-236f9967ecf9",
   "metadata": {},
   "outputs": [
    {
     "ename": "",
     "evalue": "",
     "output_type": "error",
     "traceback": [
      "\u001b[1;31mThe kernel failed to start due to the missing module 'typing_extensions'. Consider installing this module.\n",
      "\u001b[1;31mClick <a href='https://aka.ms/kernelFailuresMissingModule'>here</a> for more info."
     ]
    }
   ],
   "source": [
    "df"
   ]
  },
  {
   "cell_type": "code",
   "execution_count": null,
   "id": "8c538d8d-275f-4a17-9543-65492637d000",
   "metadata": {},
   "outputs": [
    {
     "ename": "",
     "evalue": "",
     "output_type": "error",
     "traceback": [
      "\u001b[1;31mThe kernel failed to start due to the missing module 'typing_extensions'. Consider installing this module.\n",
      "\u001b[1;31mClick <a href='https://aka.ms/kernelFailuresMissingModule'>here</a> for more info."
     ]
    }
   ],
   "source": [
    "df.head()"
   ]
  },
  {
   "cell_type": "markdown",
   "id": "de60d2ad-c39d-487d-8dac-485e1fde8537",
   "metadata": {},
   "source": [
    "# Shape of The Dataset"
   ]
  },
  {
   "cell_type": "code",
   "execution_count": null,
   "id": "4c3918db-0380-4c60-a930-f3e69cd71b0e",
   "metadata": {},
   "outputs": [
    {
     "ename": "",
     "evalue": "",
     "output_type": "error",
     "traceback": [
      "\u001b[1;31mThe kernel failed to start due to the missing module 'typing_extensions'. Consider installing this module.\n",
      "\u001b[1;31mClick <a href='https://aka.ms/kernelFailuresMissingModule'>here</a> for more info."
     ]
    }
   ],
   "source": [
    "df.shape"
   ]
  },
  {
   "cell_type": "markdown",
   "id": "2d3c926c-8987-41b6-9b0d-cb87396a52a2",
   "metadata": {},
   "source": [
    "## 2.2 Dataset information"
   ]
  },
  {
   "cell_type": "markdown",
   "id": "90f11da6-1811-4ab2-9b34-8ccc42df0ecb",
   "metadata": {},
   "source": [
    "- gender : sex of students -> (Male/female)\n",
    "- race/ethnicity : ethnicity of students -> (Group A, B,C, D,E)\n",
    "- parental level of education : parents' final education ->(bachelor's degree,some college,master's degree,associate's degree,high school)\n",
    "- lunch : having lunch before test (standard or free/reduced)\n",
    "- test preparation course : complete or not complete before test\n",
    "- math score\n",
    "- reading score\n",
    "- writing score"
   ]
  },
  {
   "cell_type": "markdown",
   "id": "9b1adc4d-688f-44c2-b516-f03caf31bf57",
   "metadata": {},
   "source": [
    "## 3. Data Checks to perform\n"
   ]
  },
  {
   "cell_type": "markdown",
   "id": "95eacec8-952a-4f92-bff6-dfe9b76a084f",
   "metadata": {},
   "source": [
    "- Check Missing values\n",
    "- Check Duplicates\n",
    "- Check data type\n",
    "- Check the number of unique values of each column\n",
    "- Check statistics of data set\n",
    "- Check various categories present in the different categorical column"
   ]
  },
  {
   "cell_type": "code",
   "execution_count": null,
   "id": "07cb9802-f5b0-4963-a7dc-9a702767d9fe",
   "metadata": {},
   "outputs": [
    {
     "ename": "",
     "evalue": "",
     "output_type": "error",
     "traceback": [
      "\u001b[1;31mThe kernel failed to start due to the missing module 'typing_extensions'. Consider installing this module.\n",
      "\u001b[1;31mClick <a href='https://aka.ms/kernelFailuresMissingModule'>here</a> for more info."
     ]
    }
   ],
   "source": [
    "df.isna().sum()"
   ]
  },
  {
   "cell_type": "markdown",
   "id": "41689f05-4531-4143-b82f-20cb4714cfcd",
   "metadata": {},
   "source": [
    "## 3.2 Check Duplicates"
   ]
  },
  {
   "cell_type": "code",
   "execution_count": null,
   "id": "32eaf12d-f007-4d81-b47b-a780a564002b",
   "metadata": {},
   "outputs": [
    {
     "ename": "",
     "evalue": "",
     "output_type": "error",
     "traceback": [
      "\u001b[1;31mThe kernel failed to start due to the missing module 'typing_extensions'. Consider installing this module.\n",
      "\u001b[1;31mClick <a href='https://aka.ms/kernelFailuresMissingModule'>here</a> for more info."
     ]
    }
   ],
   "source": [
    "dp = df.duplicated().sum()\n",
    "print(\"There are no duplicate values :\", dp)"
   ]
  },
  {
   "cell_type": "markdown",
   "id": "82b9f1f9-3967-4f13-8f97-d7805e3b067d",
   "metadata": {},
   "source": [
    "## 3.3 Check data types"
   ]
  },
  {
   "cell_type": "code",
   "execution_count": null,
   "id": "849f1654-74a0-41d9-9b9e-e32c8be77f23",
   "metadata": {},
   "outputs": [
    {
     "ename": "",
     "evalue": "",
     "output_type": "error",
     "traceback": [
      "\u001b[1;31mThe kernel failed to start due to the missing module 'typing_extensions'. Consider installing this module.\n",
      "\u001b[1;31mClick <a href='https://aka.ms/kernelFailuresMissingModule'>here</a> for more info."
     ]
    }
   ],
   "source": [
    "df.info()"
   ]
  },
  {
   "cell_type": "markdown",
   "id": "6ebee426-b58c-4ba3-9e77-2dfabbf3a721",
   "metadata": {},
   "source": [
    "## 3.4 Checking the number of unique values of each column"
   ]
  },
  {
   "cell_type": "code",
   "execution_count": null,
   "id": "675d71a9-dfb5-4e7b-87cf-abe1be249c56",
   "metadata": {},
   "outputs": [
    {
     "ename": "",
     "evalue": "",
     "output_type": "error",
     "traceback": [
      "\u001b[1;31mThe kernel failed to start due to the missing module 'typing_extensions'. Consider installing this module.\n",
      "\u001b[1;31mClick <a href='https://aka.ms/kernelFailuresMissingModule'>here</a> for more info."
     ]
    }
   ],
   "source": [
    "df.nunique()"
   ]
  },
  {
   "cell_type": "markdown",
   "id": "cce10d86-f812-4ab7-b8d4-1f717eda5d83",
   "metadata": {},
   "source": [
    "## 3.5 Check statistics of data set"
   ]
  },
  {
   "cell_type": "code",
   "execution_count": null,
   "id": "e9a64841-b776-4b71-bf28-56846404320e",
   "metadata": {},
   "outputs": [
    {
     "ename": "",
     "evalue": "",
     "output_type": "error",
     "traceback": [
      "\u001b[1;31mThe kernel failed to start due to the missing module 'typing_extensions'. Consider installing this module.\n",
      "\u001b[1;31mClick <a href='https://aka.ms/kernelFailuresMissingModule'>here</a> for more info."
     ]
    }
   ],
   "source": [
    "df.describe()"
   ]
  },
  {
   "cell_type": "markdown",
   "id": "c8f42ffa-f23c-4e79-8295-05b4320b710d",
   "metadata": {},
   "source": [
    "## 3.7 Exploring Data"
   ]
  },
  {
   "cell_type": "code",
   "execution_count": null,
   "id": "1a9abdf0-5993-45b3-bfc5-4841391724fc",
   "metadata": {},
   "outputs": [
    {
     "ename": "",
     "evalue": "",
     "output_type": "error",
     "traceback": [
      "\u001b[1;31mThe kernel failed to start due to the missing module 'typing_extensions'. Consider installing this module.\n",
      "\u001b[1;31mClick <a href='https://aka.ms/kernelFailuresMissingModule'>here</a> for more info."
     ]
    }
   ],
   "source": [
    "df.head()"
   ]
  },
  {
   "cell_type": "code",
   "execution_count": null,
   "id": "6b6d28a9-3def-458b-a36d-30dfdc041b2c",
   "metadata": {},
   "outputs": [
    {
     "ename": "",
     "evalue": "",
     "output_type": "error",
     "traceback": [
      "\u001b[1;31mThe kernel failed to start due to the missing module 'typing_extensions'. Consider installing this module.\n",
      "\u001b[1;31mClick <a href='https://aka.ms/kernelFailuresMissingModule'>here</a> for more info."
     ]
    }
   ],
   "source": [
    "print(\"Categories in 'gender' variable:     \",end=\" \" )\n",
    "print(df['gender'].unique())\n",
    "\n",
    "print(\"Categories in 'race_ethencity' variable:     \",end=\" \" )\n",
    "print(df['race_ethnicity'].unique())\n",
    "\n",
    "print(\"Categories in 'parental_level_of_education' variable:     \",end=\" \" )\n",
    "print(df['parental_level_of_education'].unique())\n",
    "\n",
    "print(\"Categories in ''lunch'' variable:     \",end=\" \" )\n",
    "print(df['lunch'].unique())\n",
    "\n",
    "print(\"Categories in 'test_preparation_course' variable:     \",end=\" \" )\n",
    "print(df['test_preparation_course'].unique())\n",
    "\n",
    "print(df['math_score'].unique())"
   ]
  },
  {
   "cell_type": "code",
   "execution_count": null,
   "id": "f5248641-e38a-4a11-bd8f-60e8fb4749b1",
   "metadata": {},
   "outputs": [
    {
     "ename": "",
     "evalue": "",
     "output_type": "error",
     "traceback": [
      "\u001b[1;31mThe kernel failed to start due to the missing module 'typing_extensions'. Consider installing this module.\n",
      "\u001b[1;31mClick <a href='https://aka.ms/kernelFailuresMissingModule'>here</a> for more info."
     ]
    }
   ],
   "source": [
    "# define numerical & categorical columns\n",
    "numeric_features = [feature for feature in df.columns if df[feature].dtype != 'O']\n",
    "categorical_features = [feature for feature in df.columns if df[feature].dtype == 'O']\n",
    "\n",
    "# print columns\n",
    "print('We have {} numerical features : {}'.format(len(numeric_features), numeric_features))\n",
    "print('\\nWe have {} categorical features : {}'.format(len(categorical_features), categorical_features))"
   ]
  },
  {
   "cell_type": "code",
   "execution_count": null,
   "id": "6cf8f20a-e39a-42c6-a897-44424a5cc3f7",
   "metadata": {},
   "outputs": [
    {
     "ename": "",
     "evalue": "",
     "output_type": "error",
     "traceback": [
      "\u001b[1;31mThe kernel failed to start due to the missing module 'typing_extensions'. Consider installing this module.\n",
      "\u001b[1;31mClick <a href='https://aka.ms/kernelFailuresMissingModule'>here</a> for more info."
     ]
    }
   ],
   "source": [
    "df.head(2)"
   ]
  },
  {
   "cell_type": "markdown",
   "id": "767cfb0f-1364-434d-b065-712ac98f98dc",
   "metadata": {},
   "source": [
    "## 3.8 Adding columns for \"Total Score\" and \"Average\""
   ]
  },
  {
   "cell_type": "code",
   "execution_count": null,
   "id": "5970d68a-f3b6-45cd-b42c-2355905701fd",
   "metadata": {},
   "outputs": [
    {
     "ename": "",
     "evalue": "",
     "output_type": "error",
     "traceback": [
      "\u001b[1;31mThe kernel failed to start due to the missing module 'typing_extensions'. Consider installing this module.\n",
      "\u001b[1;31mClick <a href='https://aka.ms/kernelFailuresMissingModule'>here</a> for more info."
     ]
    }
   ],
   "source": [
    "df['total score'] = df['math_score'] + df['reading_score'] + df['writing_score']\n",
    "df['average'] = df['total score'] / 3\n",
    "df.head()\n"
   ]
  },
  {
   "cell_type": "code",
   "execution_count": null,
   "id": "45635581-491b-4440-b98d-112b9f66a11e",
   "metadata": {},
   "outputs": [
    {
     "ename": "",
     "evalue": "",
     "output_type": "error",
     "traceback": [
      "\u001b[1;31mThe kernel failed to start due to the missing module 'typing_extensions'. Consider installing this module.\n",
      "\u001b[1;31mClick <a href='https://aka.ms/kernelFailuresMissingModule'>here</a> for more info."
     ]
    }
   ],
   "source": [
    "reading_full = df[df['reading_score']==100]['average'].count()\n",
    "writing_full = df[df['writing_score']==100]['average'].count()\n",
    "match_full = df[df['math_score']==100]['average'].count()\n",
    "\n",
    "print(f'Number of students with full marks in maths: {match_full}')\n",
    "print(f'Number of students with full marks in writing: {writing_full}')\n",
    "print(f'Number of students with full marks in Reading: {reading_full}')"
   ]
  },
  {
   "cell_type": "markdown",
   "id": "42a7ba8b-1565-4a8f-966d-de33c65e35b4",
   "metadata": {},
   "source": [
    "### Insights\n",
    "From above values we get students have performed the worst in Maths\n",
    "\n",
    "Best performance is in reading section"
   ]
  },
  {
   "cell_type": "markdown",
   "id": "348375d0-3a73-4d01-8b80-289487f46de9",
   "metadata": {},
   "source": [
    "## 4. Exploring Data ( Visualization )\n",
    "# 4.1 Visualize average score distribution to make some conclusion.\n",
    "- Histogram\n",
    "- Kernel Distribution Function (KDE)"
   ]
  },
  {
   "cell_type": "markdown",
   "id": "33c6047a-e72a-490e-a6a8-d5653dc2a33e",
   "metadata": {},
   "source": [
    "## 4.1.1 Histogram & KDE"
   ]
  },
  {
   "cell_type": "code",
   "execution_count": null,
   "id": "981a0a82-e680-4725-9d4f-0af9d6854433",
   "metadata": {},
   "outputs": [
    {
     "ename": "",
     "evalue": "",
     "output_type": "error",
     "traceback": [
      "\u001b[1;31mThe kernel failed to start due to the missing module 'typing_extensions'. Consider installing this module.\n",
      "\u001b[1;31mClick <a href='https://aka.ms/kernelFailuresMissingModule'>here</a> for more info."
     ]
    }
   ],
   "source": [
    "fig, axs = plt.subplots(1, 2, figsize=(15, 7))\n",
    "plt.subplot(121)\n",
    "sns.histplot(data=df,x='average',bins=30,kde=True,color='g')\n",
    "plt.subplot(122)\n",
    "sns.histplot(data=df,x='average',kde=True,hue='gender')\n",
    "plt.show()"
   ]
  },
  {
   "cell_type": "code",
   "execution_count": null,
   "id": "49c44d42-5109-4f44-9210-4058cba7320b",
   "metadata": {},
   "outputs": [
    {
     "ename": "",
     "evalue": "",
     "output_type": "error",
     "traceback": [
      "\u001b[1;31mThe kernel failed to start due to the missing module 'typing_extensions'. Consider installing this module.\n",
      "\u001b[1;31mClick <a href='https://aka.ms/kernelFailuresMissingModule'>here</a> for more info."
     ]
    }
   ],
   "source": [
    "fig, axs = plt.subplots(1, 2, figsize=(15, 7))\n",
    "plt.subplot(121)\n",
    "sns.histplot(data=df,x='total score',bins=30,kde=True,color='g')\n",
    "plt.subplot(122)\n",
    "sns.histplot(data=df,x='total score',kde=True,hue='gender')\n",
    "plt.show()"
   ]
  },
  {
   "cell_type": "code",
   "execution_count": null,
   "id": "bddd44ae-4b9d-4be9-9980-8c657e1340dd",
   "metadata": {},
   "outputs": [
    {
     "ename": "",
     "evalue": "",
     "output_type": "error",
     "traceback": [
      "\u001b[1;31mThe kernel failed to start due to the missing module 'typing_extensions'. Consider installing this module.\n",
      "\u001b[1;31mClick <a href='https://aka.ms/kernelFailuresMissingModule'>here</a> for more info."
     ]
    }
   ],
   "source": [
    "plt.subplots(1,3,figsize=(25,6))\n",
    "plt.subplot(141)\n",
    "sns.histplot(data=df,x='average',kde=True,hue='lunch')\n",
    "plt.subplot(142)\n",
    "sns.histplot(data=df[df.gender=='female'],x='average',kde=True,hue='lunch')\n",
    "plt.subplot(143)\n",
    "sns.histplot(data=df[df.gender=='male'],x='average',kde=True,hue='lunch')\n",
    "plt.show()"
   ]
  },
  {
   "cell_type": "markdown",
   "id": "28176130-43e9-4b39-922f-499f47c8defa",
   "metadata": {},
   "source": [
    "## Insights\n",
    "- Standard lunch helps perform well in exams.\n",
    "\n",
    "- Standard lunch helps perform well in exams be it a male or a female."
   ]
  },
  {
   "cell_type": "code",
   "execution_count": null,
   "id": "26d95994-324f-45f3-bb08-5def7f4c20ce",
   "metadata": {},
   "outputs": [
    {
     "ename": "",
     "evalue": "",
     "output_type": "error",
     "traceback": [
      "\u001b[1;31mThe kernel failed to start due to the missing module 'typing_extensions'. Consider installing this module.\n",
      "\u001b[1;31mClick <a href='https://aka.ms/kernelFailuresMissingModule'>here</a> for more info."
     ]
    }
   ],
   "source": [
    "\n",
    "# Create a figure and axes with 1 row and 3 columns\n",
    "fig, axes = plt.subplots(1, 3, figsize=(25, 6))\n",
    "\n",
    "# Plot on the first subplot\n",
    "sns.histplot(data=df, x='average', kde=True, hue='parental_level_of_education', ax=axes[0])\n",
    "axes[0].set_title('Overall Average Distribution')\n",
    "\n",
    "# Plot on the second subplot\n",
    "sns.histplot(data=df[df['gender'] == 'male'], x='average', kde=True, hue='parental_level_of_education', ax=axes[1])\n",
    "axes[1].set_title('Average Distribution (Male)')\n",
    "\n",
    "# Plot on the third subplot\n",
    "sns.histplot(data=df[df['gender'] == 'female'], x='average', kde=True, hue='parental_level_of_education', ax=axes[2])\n",
    "axes[2].set_title('Average Distribution (Female)')\n",
    "\n",
    "# Display the plot\n",
    "plt.show()\n"
   ]
  },
  {
   "cell_type": "markdown",
   "id": "42c5b02a-61f2-46ef-ace4-28393ae1d29a",
   "metadata": {},
   "source": [
    "## Insights\n",
    "- Standard lunch helps perform well in exams.\n",
    "- Standard lunch helps perform well in exams be it a male or a female"
   ]
  },
  {
   "cell_type": "code",
   "execution_count": null,
   "id": "9cf4b151-f40c-4a50-80bc-100f4783b915",
   "metadata": {},
   "outputs": [
    {
     "ename": "",
     "evalue": "",
     "output_type": "error",
     "traceback": [
      "\u001b[1;31mThe kernel failed to start due to the missing module 'typing_extensions'. Consider installing this module.\n",
      "\u001b[1;31mClick <a href='https://aka.ms/kernelFailuresMissingModule'>here</a> for more info."
     ]
    }
   ],
   "source": [
    "df \n",
    "print(df.columns)\n",
    "\n",
    "# Create a figure and axes with 1 row and 3 columns\n",
    "fig, axes = plt.subplots(1, 3, figsize=(25, 6))\n",
    "\n",
    "# Plot on the first subplot\n",
    "sns.histplot(data=df, x='average', kde=True, hue='parental_level_of_education', ax=axes[0])\n",
    "axes[0].set_title('Overall Average Distribution')\n",
    "\n",
    "# Plot on the second subplot\n",
    "sns.histplot(data=df[df['gender'] == 'male'], x='average', kde=True, hue='parental_level_of_education', ax=axes[1])\n",
    "axes[1].set_title('Average Distribution (Male)')\n",
    "\n",
    "# Plot on the third subplot\n",
    "sns.histplot(data=df[df['gender'] == 'female'], x='average', kde=True, hue='parental_level_of_education', ax=axes[2])\n",
    "axes[2].set_title('Average Distribution (Female)')\n",
    "\n",
    "# Display the plot\n",
    "plt.show()\n"
   ]
  },
  {
   "cell_type": "markdown",
   "id": "11a94be4-be21-4ff5-81e3-825363e2b355",
   "metadata": {},
   "source": [
    "## Insights\n",
    "- In general parent's education don't help student perform well in exam.\n",
    "- 2nd plot shows that parent's whose education is of associate's degree or master's degree their male child tend to perform well in exam\n",
    "- 3rd plot we can see there is no effect of parent's education on female students."
   ]
  },
  {
   "cell_type": "code",
   "execution_count": null,
   "id": "088ff928-50e6-48ba-846c-2fad91053e17",
   "metadata": {},
   "outputs": [
    {
     "ename": "",
     "evalue": "",
     "output_type": "error",
     "traceback": [
      "\u001b[1;31mThe kernel failed to start due to the missing module 'typing_extensions'. Consider installing this module.\n",
      "\u001b[1;31mClick <a href='https://aka.ms/kernelFailuresMissingModule'>here</a> for more info."
     ]
    }
   ],
   "source": [
    "df \n",
    "print(df.columns)\n",
    "\n",
    "fig, axes = plt.subplots(1, 3, figsize=(25, 6))\n",
    "sns.histplot(data=df, x='average', kde=True, hue='race_ethnicity', ax=axes[0])\n",
    "axes[0].set_title('Overall Average Distribution')\n",
    "\n",
    "sns.histplot(data=df[df['gender'] == 'female'], x='average', kde=True, hue='race_ethnicity', ax=axes[1])\n",
    "axes[1].set_title('Average Distribution (Female)')\n",
    "\n",
    "sns.histplot(data=df[df['gender'] == 'male'], x='average', kde=True, hue='race_ethnicity', ax=axes[2])\n",
    "axes[2].set_title('Average Distribution (Male)')\n",
    "\n",
    "plt.show()\n"
   ]
  },
  {
   "cell_type": "markdown",
   "id": "96f9808b-e9c8-4139-a353-d7fddc21208c",
   "metadata": {},
   "source": [
    "## Insights\n",
    "- Students of group A and group B tends to perform poorly in exam.\n",
    "- Students of group A and group B tends to perform poorly in exam irrespective of whether they are male or female\n",
    " \n",
    "## 4.2 Maximumum score of students in all three subjects"
   ]
  },
  {
   "cell_type": "code",
   "execution_count": null,
   "id": "3742700c-d780-448b-8296-1a1e26ee9e11",
   "metadata": {},
   "outputs": [
    {
     "ename": "",
     "evalue": "",
     "output_type": "error",
     "traceback": [
      "\u001b[1;31mThe kernel failed to start due to the missing module 'typing_extensions'. Consider installing this module.\n",
      "\u001b[1;31mClick <a href='https://aka.ms/kernelFailuresMissingModule'>here</a> for more info."
     ]
    }
   ],
   "source": [
    "df \n",
    "print(df.columns)\n",
    "\n",
    "plt.figure(figsize=(18, 8))\n",
    "\n",
    "plt.subplot(1, 4, 1)\n",
    "plt.title('MATH SCORES')\n",
    "sns.violinplot(y='math_score', data=df, color='red', linewidth=3)\n",
    "\n",
    "plt.subplot(1, 4, 2)\n",
    "plt.title('READING SCORES')\n",
    "sns.violinplot(y='reading_score', data=df, color='green', linewidth=3)\n",
    "\n",
    "plt.subplot(1, 4, 3)\n",
    "plt.title('WRITING SCORES')\n",
    "sns.violinplot(y='writing_score', data=df, color='blue', linewidth=3)\n",
    "\n",
    "plt.show()\n"
   ]
  },
  {
   "cell_type": "markdown",
   "id": "5ef56f57-ee54-4c3c-bf1c-0ef2ed0f4d6b",
   "metadata": {},
   "source": [
    "## Insights\n",
    "- From the above three plots its clearly visible that most of the students score in between 60-80 in Maths whereas in reading and writing most of them score from 50-80\n",
    "## 4.3 Multivariate analysis using pieplot"
   ]
  },
  {
   "cell_type": "code",
   "execution_count": null,
   "id": "5ef529c6-e865-472c-9887-c2f662be133a",
   "metadata": {},
   "outputs": [
    {
     "ename": "",
     "evalue": "",
     "output_type": "error",
     "traceback": [
      "\u001b[1;31mThe kernel failed to start due to the missing module 'typing_extensions'. Consider installing this module.\n",
      "\u001b[1;31mClick <a href='https://aka.ms/kernelFailuresMissingModule'>here</a> for more info."
     ]
    }
   ],
   "source": [
    "# Print unique values for verification\n",
    "print(df.columns)\n",
    "print(\"Gender:\", df['gender'].unique())\n",
    "print(\"Race_Ethnicity:\", df['race_ethnicity'].unique())\n",
    "print(\"Lunch:\", df['lunch'].unique())\n",
    "print(\"Test Preparation Course:\", df['test_preparation_course'].unique())\n",
    "print(\"Parental Level of Education:\", df['parental_level_of_education'].unique())\n",
    "\n",
    "# Plot the pie charts\n",
    "plt.rcParams['figure.figsize'] = (30, 12)\n",
    "\n",
    "# Gender pie chart\n",
    "plt.subplot(1, 5, 1)\n",
    "size = df['gender'].value_counts()\n",
    "labels = df['gender'].unique()\n",
    "colors = ['red', 'green']\n",
    "plt.pie(size, colors=colors, labels=labels, autopct='%1.2f%%')\n",
    "plt.title('Gender', fontsize=20)\n",
    "plt.axis('off')\n",
    "\n",
    "# Race/Ethnicity pie chart\n",
    "plt.subplot(1, 5, 2)\n",
    "size = df['race_ethnicity'].value_counts()\n",
    "labels = df['race_ethnicity'].unique()\n",
    "colors = ['red', 'green', 'blue', 'cyan', 'magenta']  # Adjust colors based on unique values\n",
    "plt.pie(size, colors=colors[:len(labels)], labels=labels, autopct='%1.2f%%')\n",
    "plt.title('Race/Ethnicity', fontsize=20)\n",
    "plt.axis('off')\n",
    "\n",
    "# Lunch pie chart\n",
    "plt.subplot(1, 5, 3)\n",
    "size = df['lunch'].value_counts()\n",
    "labels = df['lunch'].unique()\n",
    "colors = ['red', 'green']\n",
    "plt.pie(size, colors=colors, labels=labels, autopct='%1.2f%%')\n",
    "plt.title('Lunch', fontsize=20)\n",
    "plt.axis('off')\n",
    "\n",
    "# Test Preparation Course pie chart\n",
    "plt.subplot(1, 5, 4)\n",
    "size = df['test_preparation_course'].value_counts()\n",
    "labels = df['test_preparation_course'].unique()\n",
    "colors = ['red', 'green']\n",
    "plt.pie(size, colors=colors, labels=labels, autopct='%1.2f%%')\n",
    "plt.title('Test Preparation Course', fontsize=20)\n",
    "plt.axis('off')\n",
    "\n",
    "# Parental Level of Education pie chart\n",
    "plt.subplot(1, 5, 5)\n",
    "size = df['parental_level_of_education'].value_counts()\n",
    "labels = df['parental_level_of_education'].unique()\n",
    "colors = ['red', 'green', 'blue', 'cyan', 'orange', 'purple']  # Adjust colors based on unique values\n",
    "plt.pie(size, colors=colors[:len(labels)], labels=labels, autopct='%1.2f%%')\n",
    "plt.title('Parental Level of Education', fontsize=20)\n",
    "plt.axis('off')\n",
    "\n",
    "plt.tight_layout()\n",
    "plt.show()\n"
   ]
  },
  {
   "cell_type": "markdown",
   "id": "ba13fbcc-75f4-40f0-a3f4-2ea53694d9cc",
   "metadata": {},
   "source": [
    "## Insights\n",
    "- Number of Male and Female students is almost equal\n",
    "- Number students are greatest in Group C\n",
    "- Number of students who have standard lunch are greater\n",
    "- Number of students who have not enrolled in any test preparation course is greater\n",
    "- Number of students whose parental education is \"Some College\" is greater followed closely by \"Associate's Degree\"\n",
    "  \n",
    "## 4.4 Feature Wise Visualization\n",
    "\n",
    "## 4.4.1 GENDER COLUMN\n",
    "- How is distribution of Gender ?\n",
    "- Is gender has any impact on student's performance ?\n",
    "- \n",
    "## UNIVARIATE ANALYSIS ( How is distribution of Gender ? )"
   ]
  },
  {
   "cell_type": "code",
   "execution_count": null,
   "id": "5ec7a6c1-2765-48fa-ad28-4bbb4c94daf1",
   "metadata": {},
   "outputs": [
    {
     "ename": "",
     "evalue": "",
     "output_type": "error",
     "traceback": [
      "\u001b[1;31mThe kernel failed to start due to the missing module 'typing_extensions'. Consider installing this module.\n",
      "\u001b[1;31mClick <a href='https://aka.ms/kernelFailuresMissingModule'>here</a> for more info."
     ]
    }
   ],
   "source": [
    "# Check the column names\n",
    "print(df.columns)\n",
    "\n",
    "# Assuming the correct column name is 'gender'\n",
    "f, ax = plt.subplots(1, 2, figsize=(20, 10))\n",
    "\n",
    "# Count plot for gender\n",
    "sns.countplot(x='gender', data=df, palette='bright', ax=ax[0], saturation=0.95)\n",
    "for container in ax[0].containers:\n",
    "    ax[0].bar_label(container, color='black', size=20)\n",
    "\n",
    "# Pie chart for gender\n",
    "gender_counts = df['gender'].value_counts()\n",
    "ax[1].pie(gender_counts, labels=gender_counts.index, explode=[0, 0.1], autopct='%1.1f%%', shadow=True, colors=['#ff4d4d', '#ff8000'])\n",
    "\n",
    "plt.show()\n"
   ]
  },
  {
   "cell_type": "markdown",
   "id": "5beebded-9ca3-45d6-90c3-f68beacedaa9",
   "metadata": {},
   "source": [
    "## Insights\n",
    "- Gender has balanced data with female students are 518 (48%) and male students are 482 (52%)\n",
    "- BIVARIATE ANALYSIS ( Is gender has any impact on student's performance ? )"
   ]
  },
  {
   "cell_type": "code",
   "execution_count": null,
   "id": "15397f77-4d9f-4df0-90d6-0cabbe9a7a09",
   "metadata": {},
   "outputs": [
    {
     "ename": "",
     "evalue": "",
     "output_type": "error",
     "traceback": [
      "\u001b[1;31mThe kernel failed to start due to the missing module 'typing_extensions'. Consider installing this module.\n",
      "\u001b[1;31mClick <a href='https://aka.ms/kernelFailuresMissingModule'>here</a> for more info."
     ]
    }
   ],
   "source": [
    "import pandas as pd\n",
    "\n",
    "# Display the column names to check for non-numeric columns\n",
    "print(df.columns)\n",
    "\n",
    "# Select only numeric columns\n",
    "numeric_columns = df.select_dtypes(include='number').columns\n",
    "\n",
    "# Group by 'gender' and calculate the mean for numeric columns\n",
    "gender_group = df.groupby('gender')[numeric_columns].mean()\n",
    "\n",
    "# Display the results\n",
    "print(gender_group)\n"
   ]
  },
  {
   "cell_type": "code",
   "execution_count": null,
   "id": "57791e0f-25e8-4fb1-95f1-38085c7d025d",
   "metadata": {},
   "outputs": [
    {
     "ename": "",
     "evalue": "",
     "output_type": "error",
     "traceback": [
      "\u001b[1;31mThe kernel failed to start due to the missing module 'typing_extensions'. Consider installing this module.\n",
      "\u001b[1;31mClick <a href='https://aka.ms/kernelFailuresMissingModule'>here</a> for more info."
     ]
    }
   ],
   "source": [
    "plt.figure(figsize=(10, 8))\n",
    "\n",
    "X = ['Total Average','Math Average']\n",
    "\n",
    "\n",
    "female_scores = [gender_group['average'][0], gender_group['math_score'][0]]\n",
    "male_scores = [gender_group['average'][1], gender_group['math_score'][1]]\n",
    "\n",
    "X_axis = np.arange(len(X))\n",
    "  \n",
    "plt.bar(X_axis - 0.2, male_scores, 0.4, label = 'Male')\n",
    "plt.bar(X_axis + 0.2, female_scores, 0.4, label = 'Female')\n",
    "  \n",
    "plt.xticks(X_axis, X)\n",
    "plt.ylabel(\"Marks\")\n",
    "plt.title(\"Total average v/s Math average marks of both the genders\", fontweight='bold')\n",
    "plt.legend()\n",
    "plt.show()"
   ]
  },
  {
   "cell_type": "markdown",
   "id": "bfbb0d3f-2ef2-44f4-8102-a2dcd49139e4",
   "metadata": {},
   "source": [
    "## Insights\n",
    "- On an average females have a better overall score than men.\n",
    "- whereas males have scored higher in Maths.\n",
    "## 4.4.2 RACE/EHNICITY COLUMN\n",
    "-How is Group wise distribution ?\n",
    "- Is Race/Ehnicity has any impact on student's performance ?\n",
    "## UNIVARIATE ANALYSIS ( How is Group wise distribution ?)"
   ]
  },
  {
   "cell_type": "code",
   "execution_count": null,
   "id": "15a183a8-d685-4394-a227-d1c9ae0317f6",
   "metadata": {},
   "outputs": [
    {
     "ename": "",
     "evalue": "",
     "output_type": "error",
     "traceback": [
      "\u001b[1;31mThe kernel failed to start due to the missing module 'typing_extensions'. Consider installing this module.\n",
      "\u001b[1;31mClick <a href='https://aka.ms/kernelFailuresMissingModule'>here</a> for more info."
     ]
    }
   ],
   "source": [
    "f,ax=plt.subplots(1,2,figsize=(20,10))\n",
    "sns.countplot(x=df['race_ethnicity'],data=df,palette = 'bright',ax=ax[0],saturation=0.95)\n",
    "for container in ax[0].containers:\n",
    "    ax[0].bar_label(container,color='black',size=20)\n",
    "    \n",
    "plt.pie(x = df['race_ethnicity'].value_counts(),labels=df['race_ethnicity'].value_counts().index,explode=[0.1,0,0,0,0],autopct='%1.1f%%',shadow=True)\n",
    "plt.show()"
   ]
  },
  {
   "cell_type": "markdown",
   "id": "cc275b8e-1262-4836-949d-464cab0168ec",
   "metadata": {},
   "source": [
    "## Insights\n",
    "- Most of the student belonging from group C /group D.\n",
    "- Lowest number of students belong to groupA.\n",
    "## BIVARIATE ANALYSIS ( Is Race/Ehnicity has any impact on student's performance ? )"
   ]
  },
  {
   "cell_type": "code",
   "execution_count": null,
   "id": "0d209569-9b4d-4303-8506-0a71bc62ce74",
   "metadata": {},
   "outputs": [
    {
     "ename": "",
     "evalue": "",
     "output_type": "error",
     "traceback": [
      "\u001b[1;31mThe kernel failed to start due to the missing module 'typing_extensions'. Consider installing this module.\n",
      "\u001b[1;31mClick <a href='https://aka.ms/kernelFailuresMissingModule'>here</a> for more info."
     ]
    }
   ],
   "source": [
    "Group_data2=df.groupby('race_ethnicity')\n",
    "f,ax=plt.subplots(1,3,figsize=(20,8))\n",
    "sns.barplot(x=Group_data2['math_score'].mean().index,y=Group_data2['math_score'].mean().values,palette = 'mako',ax=ax[0])\n",
    "ax[0].set_title('Math score',color='#005ce6',size=20)\n",
    "\n",
    "for container in ax[0].containers:\n",
    "    ax[0].bar_label(container,color='black',size=15)\n",
    "\n",
    "sns.barplot(x=Group_data2['reading_score'].mean().index,y=Group_data2['reading_score'].mean().values,palette = 'flare',ax=ax[1])\n",
    "ax[1].set_title('Reading score',color='#005ce6',size=20)\n",
    "\n",
    "for container in ax[1].containers:\n",
    "    ax[1].bar_label(container,color='black',size=15)\n",
    "\n",
    "sns.barplot(x=Group_data2['writing_score'].mean().index,y=Group_data2['writing_score'].mean().values,palette = 'coolwarm',ax=ax[2])\n",
    "ax[2].set_title('Writing_score',color='#005ce6',size=20)\n",
    "\n",
    "for container in ax[2].containers:\n",
    "    ax[2].bar_label(container,color='black',size=15)"
   ]
  },
  {
   "cell_type": "markdown",
   "id": "ebf577e7-26fb-4b09-aef3-8946bccf1d4f",
   "metadata": {},
   "source": [
    "## Insights\n",
    "- Group E students have scored the highest marks.\n",
    "- Group A students have scored the lowest marks.\n",
    "- Students from a lower Socioeconomic status have a lower avg in all course subjects\n",
    "## 4.4.3 PARENTAL LEVEL OF EDUCATION COLUMN\n",
    "- What is educational background of student's parent ?\n",
    "- Is parental education has any impact on student's performance ?\n",
    "## UNIVARIATE ANALYSIS ( What is educational background of student's parent ? )"
   ]
  },
  {
   "cell_type": "code",
   "execution_count": null,
   "id": "f6a118ab-8c00-42ef-8ad4-a71168669512",
   "metadata": {},
   "outputs": [
    {
     "ename": "",
     "evalue": "",
     "output_type": "error",
     "traceback": [
      "\u001b[1;31mThe kernel failed to start due to the missing module 'typing_extensions'. Consider installing this module.\n",
      "\u001b[1;31mClick <a href='https://aka.ms/kernelFailuresMissingModule'>here</a> for more info."
     ]
    }
   ],
   "source": [
    "plt.rcParams['figure.figsize'] = (15, 9)\n",
    "plt.style.use('fivethirtyeight')\n",
    "sns.countplot(df['parental_level_of_education'], palette = 'Blues')\n",
    "plt.title('Comparison of Parental Education', fontweight = 30, fontsize = 20)\n",
    "plt.xlabel('Degree')\n",
    "plt.ylabel('count')\n",
    "plt.show()"
   ]
  },
  {
   "cell_type": "markdown",
   "id": "60bbf870-d782-4d41-87f5-48457b6d6a39",
   "metadata": {},
   "source": [
    "## Insights\n",
    "- Largest number of parents are from some college.\n",
    "## BIVARIATE ANALYSIS ( Is parental education has any impact on student's performance ? )"
   ]
  },
  {
   "cell_type": "code",
   "execution_count": null,
   "id": "7f85975f-413f-4e21-99fd-4ecba3b17a89",
   "metadata": {},
   "outputs": [
    {
     "ename": "",
     "evalue": "",
     "output_type": "error",
     "traceback": [
      "\u001b[1;31mThe kernel failed to start due to the missing module 'typing_extensions'. Consider installing this module.\n",
      "\u001b[1;31mClick <a href='https://aka.ms/kernelFailuresMissingModule'>here</a> for more info."
     ]
    }
   ],
   "source": [
    "import pandas as pd\n",
    "import matplotlib.pyplot as plt\n",
    "\n",
    "# Check the column names\n",
    "print(df.columns)\n",
    "\n",
    "# Select only numeric columns\n",
    "numeric_columns = df.select_dtypes(include='number').columns\n",
    "\n",
    "# Group by 'parental_level_of_education' and calculate the mean for numeric columns\n",
    "education_group = df.groupby('parental_level_of_education')[numeric_columns].mean()\n",
    "\n",
    "# Display the results\n",
    "print(education_group)\n",
    "\n",
    "# Plot the mean scores for each parental education level\n",
    "education_group.plot(kind='barh', figsize=(10, 10))\n",
    "plt.legend(bbox_to_anchor=(1.05, 1), loc='upper left', borderaxespad=0.)\n",
    "plt.title('Mean Scores by Parental Level of Education')\n",
    "plt.xlabel('Mean Scores')\n",
    "plt.ylabel('Parental Level of Education')\n",
    "plt.show()\n"
   ]
  },
  {
   "cell_type": "markdown",
   "id": "876ab2d4-910e-4139-b542-9e79708638db",
   "metadata": {},
   "source": [
    "## Insights\n",
    "- The score of student whose parents possess master and bachelor level education are higher than others.\n",
    "## 4.4.4 LUNCH COLUMN\n",
    "- Which type of lunch is most common amoung students ?\n",
    "-  What is the effect of lunch type on test results?\n",
    "## UNIVARIATE ANALYSIS ( Which type of lunch is most common amoung students ? )"
   ]
  },
  {
   "cell_type": "code",
   "execution_count": null,
   "id": "97a440f4-4ecc-483a-b072-1e4bbfdc9f7f",
   "metadata": {},
   "outputs": [
    {
     "ename": "",
     "evalue": "",
     "output_type": "error",
     "traceback": [
      "\u001b[1;31mThe kernel failed to start due to the missing module 'typing_extensions'. Consider installing this module.\n",
      "\u001b[1;31mClick <a href='https://aka.ms/kernelFailuresMissingModule'>here</a> for more info."
     ]
    }
   ],
   "source": [
    "plt.rcParams['figure.figsize'] = (15, 9)\n",
    "plt.style.use('seaborn-talk')\n",
    "sns.countplot(df['lunch'], palette = 'PuBu')\n",
    "plt.title('Comparison of different types of lunch', fontweight = 30, fontsize = 20)\n",
    "plt.xlabel('types of lunch')\n",
    "plt.ylabel('count')\n",
    "plt.show()"
   ]
  },
  {
   "cell_type": "markdown",
   "id": "988e53b5-2f50-45eb-a35d-27abacb13463",
   "metadata": {},
   "source": [
    "## Insights\n",
    "- Students being served Standard lunch was more than free lunch\n",
    "## BIVARIATE ANALYSIS ( Is lunch type intake has any impact on student's performance ? )"
   ]
  },
  {
   "cell_type": "code",
   "execution_count": null,
   "id": "5f9f5440-c7c5-48f0-8f07-b0ce8b9a1caf",
   "metadata": {},
   "outputs": [
    {
     "ename": "",
     "evalue": "",
     "output_type": "error",
     "traceback": [
      "\u001b[1;31mThe kernel failed to start due to the missing module 'typing_extensions'. Consider installing this module.\n",
      "\u001b[1;31mClick <a href='https://aka.ms/kernelFailuresMissingModule'>here</a> for more info."
     ]
    }
   ],
   "source": [
    "f,ax=plt.subplots(1,2,figsize=(20,8))\n",
    "sns.countplot(x=df['parental_level_of_education'],data=df,palette = 'bright',hue='test_preparation_course',saturation=0.95,ax=ax[0])\n",
    "ax[0].set_title('Students vs test preparation course ',color='black',size=25)\n",
    "for container in ax[0].containers:\n",
    "    ax[0].bar_label(container,color='black',size=20)\n",
    "    \n",
    "sns.countplot(x=df['parental_level_of_education'],data=df,palette = 'bright',hue='lunch',saturation=0.95,ax=ax[1])\n",
    "for container in ax[1].containers:\n",
    "    ax[1].bar_label(container,color='black',size=20)"
   ]
  },
  {
   "cell_type": "markdown",
   "id": "b0a77f23-7389-42cc-a1f8-3877392d3d30",
   "metadata": {},
   "source": [
    "## Insights\n",
    "- Students who get Standard Lunch tend to perform better than students who got free/reduced lunch\n",
    "## 4.4.5 TEST PREPARATION COURSE COLUMN\n",
    "- Which type of lunch is most common amoung students ?\n",
    "-Is Test prepration course has any impact on student's performance ?\n",
    "## BIVARIATE ANALYSIS ( Is Test prepration course has any impact on student's performance ? )"
   ]
  },
  {
   "cell_type": "code",
   "execution_count": null,
   "id": "3aa2cf09-254c-4527-a0c5-5aebd97989aa",
   "metadata": {},
   "outputs": [
    {
     "ename": "",
     "evalue": "",
     "output_type": "error",
     "traceback": [
      "\u001b[1;31mThe kernel failed to start due to the missing module 'typing_extensions'. Consider installing this module.\n",
      "\u001b[1;31mClick <a href='https://aka.ms/kernelFailuresMissingModule'>here</a> for more info."
     ]
    }
   ],
   "source": [
    "plt.figure(figsize=(12,6))\n",
    "plt.subplot(2,2,1)\n",
    "sns.barplot (x=df['lunch'], y=df['math_score'], hue=df['test_preparation_course'])\n",
    "plt.subplot(2,2,2)\n",
    "sns.barplot (x=df['lunch'], y=df['reading_score'], hue=df['test_preparation_course'])\n",
    "plt.subplot(2,2,3)\n",
    "sns.barplot (x=df['lunch'], y=df['writing_score'], hue=df['test_preparation_course'])"
   ]
  },
  {
   "cell_type": "markdown",
   "id": "a671a527-7f94-4932-8956-14c060532064",
   "metadata": {},
   "source": [
    "## Insights\n",
    "- Students who have completed the Test Prepration Course have scores higher in all three categories than those who haven't taken the course\n",
    "## 4.4.6 CHECKING OUTLIERS"
   ]
  },
  {
   "cell_type": "code",
   "execution_count": null,
   "id": "8e309e88-3488-4af0-8c01-ec2256da6257",
   "metadata": {},
   "outputs": [
    {
     "ename": "",
     "evalue": "",
     "output_type": "error",
     "traceback": [
      "\u001b[1;31mThe kernel failed to start due to the missing module 'typing_extensions'. Consider installing this module.\n",
      "\u001b[1;31mClick <a href='https://aka.ms/kernelFailuresMissingModule'>here</a> for more info."
     ]
    }
   ],
   "source": [
    "plt.subplots(1,4,figsize=(16,5))\n",
    "plt.subplot(141)\n",
    "sns.boxplot(df['math_score'],color='skyblue')\n",
    "plt.subplot(142)\n",
    "sns.boxplot(df['reading_score'],color='hotpink')\n",
    "plt.subplot(143)\n",
    "sns.boxplot(df['writing_score'],color='yellow')\n",
    "plt.subplot(144)\n",
    "sns.boxplot(df['average'],color='lightgreen')\n",
    "plt.show()"
   ]
  },
  {
   "cell_type": "markdown",
   "id": "726e7285-5a55-4e9d-8515-3085047db0fe",
   "metadata": {},
   "source": [
    "## 4.4.7 MUTIVARIATE ANALYSIS USING PAIRPLOT"
   ]
  },
  {
   "cell_type": "code",
   "execution_count": null,
   "id": "abe0e7ca-b678-4ed7-aabc-238b7f1fc088",
   "metadata": {},
   "outputs": [
    {
     "ename": "",
     "evalue": "",
     "output_type": "error",
     "traceback": [
      "\u001b[1;31mThe kernel failed to start due to the missing module 'typing_extensions'. Consider installing this module.\n",
      "\u001b[1;31mClick <a href='https://aka.ms/kernelFailuresMissingModule'>here</a> for more info."
     ]
    }
   ],
   "source": [
    "sns.pairplot(df,hue = 'gender')\n",
    "plt.show()"
   ]
  },
  {
   "cell_type": "markdown",
   "id": "31b8f31b-1d1f-49e0-bd3d-a6160eeffee6",
   "metadata": {},
   "source": [
    "## Insights\n",
    "- From the above plot it is clear that all the scores increase linearly with each other.\n",
    "## 5. Conclusions\n",
    "-Student's Performance is related with lunch, race, parental level education\n",
    "-Females lead in pass percentage and also are top-scorers\n",
    "-Student's Performance is not much related with test preparation course\n",
    "- Finishing preparation course is benefitial."
   ]
  },
  {
   "cell_type": "code",
   "execution_count": null,
   "id": "f25f5915-0608-4e65-907c-68c0cf40830e",
   "metadata": {},
   "outputs": [
    {
     "ename": "",
     "evalue": "",
     "output_type": "error",
     "traceback": [
      "\u001b[1;31mThe kernel failed to start due to the missing module 'typing_extensions'. Consider installing this module.\n",
      "\u001b[1;31mClick <a href='https://aka.ms/kernelFailuresMissingModule'>here</a> for more info."
     ]
    }
   ],
   "source": []
  }
 ],
 "metadata": {
  "kernelspec": {
   "display_name": "Python 3 (ipykernel)",
   "language": "python",
   "name": "python3"
  },
  "language_info": {
   "codemirror_mode": {
    "name": "ipython",
    "version": 3
   },
   "file_extension": ".py",
   "mimetype": "text/x-python",
   "name": "python",
   "nbconvert_exporter": "python",
   "pygments_lexer": "ipython3",
   "version": "3.8.0"
  }
 },
 "nbformat": 4,
 "nbformat_minor": 5
}
